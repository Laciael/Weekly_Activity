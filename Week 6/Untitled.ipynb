{
 "cells": [
  {
   "cell_type": "code",
   "execution_count": 29,
   "id": "9c7f916f",
   "metadata": {},
   "outputs": [
    {
     "data": {
      "text/plain": [
       "'C:\\\\Users\\\\Dell\\\\Documents\\\\Mini Project'"
      ]
     },
     "execution_count": 29,
     "metadata": {},
     "output_type": "execute_result"
    }
   ],
   "source": [
    "%pwd"
   ]
  },
  {
   "cell_type": "code",
   "execution_count": 30,
   "id": "b68fd5b9",
   "metadata": {},
   "outputs": [
    {
     "data": {
      "text/plain": [
       "True"
      ]
     },
     "execution_count": 30,
     "metadata": {},
     "output_type": "execute_result"
    }
   ],
   "source": [
    "import sys\n",
    "# Python 3.7 is required\n",
    "assert sys.version_info >= (3,7)\n",
    "\n",
    "import cv2 as cv\n",
    "import numpy as np\n",
    "import matplotlib.pyplot as plt\n",
    "\n",
    "# Make sure that optimization is enabled\n",
    "if not cv.useOptimized():\n",
    "    cv.setUseOptimized(True)\n",
    "\n",
    "cv.useOptimized()"
   ]
  },
  {
   "cell_type": "code",
   "execution_count": 37,
   "id": "2ac81dec",
   "metadata": {},
   "outputs": [],
   "source": [
    "#import os\n",
    "#os.chdir('C:\\\\Users\\\\Dell\\\\Documents\\\\Mini Project\\\\Week 6')"
   ]
  },
  {
   "cell_type": "markdown",
   "id": "5e3599ed",
   "metadata": {},
   "source": [
    "## identity kernal\n",
    "-Convolution is OpenCv achievde by \"cv.Filter2D()"
   ]
  },
  {
   "cell_type": "code",
   "execution_count": 39,
   "id": "3b43e2a6",
   "metadata": {},
   "outputs": [
    {
     "data": {
      "text/plain": [
       "True"
      ]
     },
     "execution_count": 39,
     "metadata": {},
     "output_type": "execute_result"
    }
   ],
   "source": [
    "img is not None"
   ]
  },
  {
   "cell_type": "code",
   "execution_count": 38,
   "id": "1521b0c7",
   "metadata": {},
   "outputs": [
    {
     "data": {
      "text/plain": [
       "<function destroyAllWindows>"
      ]
     },
     "execution_count": 38,
     "metadata": {},
     "output_type": "execute_result"
    }
   ],
   "source": [
    "##identity matrix\n",
    "\n",
    "kernel = np.zeros((3, 3), dtype = np.uint8)\n",
    "kernel[1, 1] = 1\n",
    "img = cv.imread(\"Surprised_Pikachu.jpg\")\n",
    "\n",
    "dst = cv.filter2D(img, -1, kernel)\n",
    "\n",
    "cv.imshow(\"ori\", img)\n",
    "cv.imshow('idendity', dst)\n",
    "cv.waitKey(0)\n",
    "cv.destroyAllWindows"
   ]
  },
  {
   "cell_type": "code",
   "execution_count": 41,
   "id": "9d6c377a",
   "metadata": {},
   "outputs": [
    {
     "data": {
      "text/plain": [
       "<function destroyAllWindows>"
      ]
     },
     "execution_count": 41,
     "metadata": {},
     "output_type": "execute_result"
    }
   ],
   "source": [
    "##Blur Average Kernel\n",
    "\n",
    "kernel_3x3 = np.ones((1, 1), dtype = np.float32)/9.0\n",
    "img = cv.imread(\"Surprised_Pikachu.jpg\")\n",
    "\n",
    "dst = cv.filter2D(img, -1, kernel_3x3)\n",
    "\n",
    "cv.imshow(\"ori\", img)\n",
    "cv.imshow('idendity', dst)\n",
    "cv.waitKey(0)\n",
    "cv.destroyAllWindows"
   ]
  },
  {
   "cell_type": "markdown",
   "id": "1dcc366b",
   "metadata": {},
   "source": [
    "--there are some convinient function available in opencv that cna perform blurring cv.blur and cv.GaussianBlur()"
   ]
  },
  {
   "cell_type": "code",
   "execution_count": 42,
   "id": "62a09dbd",
   "metadata": {},
   "outputs": [
    {
     "data": {
      "text/plain": [
       "<function destroyAllWindows>"
      ]
     },
     "execution_count": 42,
     "metadata": {},
     "output_type": "execute_result"
    }
   ],
   "source": [
    "#\n",
    "kernel_size = 1\n",
    "blur = cv.blur(img, (kernel_size, kernel_size))\n",
    "\n",
    "cv.imshow('blur', blur)\n",
    "cv.waitKey(0)\n",
    "cv.destroyAllWindows"
   ]
  },
  {
   "cell_type": "code",
   "execution_count": null,
   "id": "a00d6946",
   "metadata": {},
   "outputs": [],
   "source": [
    "#gaussian kernel\n",
    "\n",
    "img = cv.imread(\"Surprised_Pikachu.jpg\")\n",
    "blur_gaussian = cv.GaussianBlur(img, (kernel_size), 0)\n",
    "\n",
    "cv.imshow('blur', blur_gaussian)\n",
    "cv.waitKey(0)\n",
    "cv.destroyAllWindows"
   ]
  },
  {
   "cell_type": "code",
   "execution_count": 43,
   "id": "f8ec413f",
   "metadata": {},
   "outputs": [
    {
     "data": {
      "text/plain": [
       "-1"
      ]
     },
     "execution_count": 43,
     "metadata": {},
     "output_type": "execute_result"
    }
   ],
   "source": [
    "#extra example to create my own sharpening kernel : 2*I - K\n",
    "kernel_blur = np.ones((3, 3), dtype = np.float32)/9.0\n",
    "kernel = np.zeros((3, 3), dtype = np.float32)\n",
    "kernel[1, 1] = 1\n",
    "\n",
    "s_kernel = 2*kernel - kernel_blur\n",
    "\n",
    "img = cv.imread(\"Surprised_Pikachu.jpg\")\n",
    "\n",
    "dst = cv.filter2D(img, -1, s_kernel)\n",
    "\n",
    "cv.imshow(\"ori\", img)\n",
    "cv.imshow(\"dst\", dst)\n",
    "cv.waitKey(0)"
   ]
  },
  {
   "cell_type": "code",
   "execution_count": 45,
   "id": "479f4bec",
   "metadata": {},
   "outputs": [
    {
     "ename": "error",
     "evalue": "OpenCV(4.6.0) :-1: error: (-5:Bad argument) in function 'resize'\n> Overload resolution failed:\n>  - Can't parse 'dsize'. Sequence item with index 0 has a wrong type\n>  - Can't parse 'dsize'. Sequence item with index 0 has a wrong type\n",
     "output_type": "error",
     "traceback": [
      "\u001b[1;31m---------------------------------------------------------------------------\u001b[0m",
      "\u001b[1;31merror\u001b[0m                                     Traceback (most recent call last)",
      "Input \u001b[1;32mIn [45]\u001b[0m, in \u001b[0;36m<cell line: 4>\u001b[1;34m()\u001b[0m\n\u001b[0;32m      1\u001b[0m \u001b[38;5;66;03m#exercise \u001b[39;00m\n\u001b[0;32m      3\u001b[0m img \u001b[38;5;241m=\u001b[39m cv\u001b[38;5;241m.\u001b[39mimread(\u001b[38;5;124m\"\u001b[39m\u001b[38;5;124mSurprised_Pikachu.jpg\u001b[39m\u001b[38;5;124m\"\u001b[39m)\n\u001b[1;32m----> 4\u001b[0m img \u001b[38;5;241m=\u001b[39m \u001b[43mcv\u001b[49m\u001b[38;5;241;43m.\u001b[39;49m\u001b[43mresize\u001b[49m\u001b[43m(\u001b[49m\u001b[43mimg\u001b[49m\u001b[43m,\u001b[49m\u001b[43m \u001b[49m\u001b[43m(\u001b[49m\u001b[38;5;241;43m0.5\u001b[39;49m\u001b[43m,\u001b[49m\u001b[43m \u001b[49m\u001b[38;5;241;43m0.5\u001b[39;49m\u001b[43m)\u001b[49m\u001b[43m)\u001b[49m\n\u001b[0;32m      6\u001b[0m kernel_size_list \u001b[38;5;241m=\u001b[39m [\u001b[38;5;241m3\u001b[39m, \u001b[38;5;241m5\u001b[39m, \u001b[38;5;241m7\u001b[39m ,\u001b[38;5;241m9\u001b[39m]\n\u001b[0;32m      8\u001b[0m \u001b[38;5;28;01mfor\u001b[39;00m i \u001b[38;5;129;01min\u001b[39;00m \u001b[38;5;28mlist\u001b[39m:\n",
      "\u001b[1;31merror\u001b[0m: OpenCV(4.6.0) :-1: error: (-5:Bad argument) in function 'resize'\n> Overload resolution failed:\n>  - Can't parse 'dsize'. Sequence item with index 0 has a wrong type\n>  - Can't parse 'dsize'. Sequence item with index 0 has a wrong type\n"
     ]
    }
   ],
   "source": [
    "#exercise \n",
    "\n",
    "img = cv.imread(\"Surprised_Pikachu.jpg\")\n",
    "img = cv.resize(img, (0.5, 0.5))\n",
    "\n",
    "kernel_size_list = [3, 5, 7 ,9]\n",
    "\n",
    "for i in list:\n",
    "    \n",
    "    name_window = \"blur\" + str(i)\n",
    "    #smoothing\n",
    "    blur = cv.blur(img, (i, i))\n",
    "    cv.imshow(name_window, blur)\n",
    "\n",
    "cv.waitKey(0)"
   ]
  },
  {
   "cell_type": "code",
   "execution_count": 47,
   "id": "25afb483",
   "metadata": {},
   "outputs": [],
   "source": [
    "img = cv.imread('native-bee.png')\n",
    "\n",
    "#create sharpening 3x3\n",
    "kernel_sharpen3 = np.array([[0, -1, 0], [-1, 5, -1], [0,-1, 0]])\n",
    "\n",
    "#create shaperning 5x5\n",
    "kernel_sharpen5 =np.ones((5,5))\n",
    "kernel_sharpen5[2, 2] = 25\n",
    "\n",
    "#convulation\n",
    "img1 = cv.filter2D(img, -1, kernel_sharpen3)\n",
    "img2 = cv.filter2D(img, -1, kernel_sharpen5)\n",
    "\n",
    "cv.imshow('s3', img1)\n",
    "cv.imshow('s5', img2)\n",
    "\n",
    "cv.waitKey(0)\n",
    "cv.destroyAllWindows()"
   ]
  },
  {
   "cell_type": "code",
   "execution_count": 49,
   "id": "0c2b9df8",
   "metadata": {},
   "outputs": [],
   "source": [
    "img_gray = cv.imread('butterfly.jfif', 0)\n",
    "\n",
    "hist = cv.calcHist([img_gray], [0], None, [256], [0, 256])"
   ]
  },
  {
   "cell_type": "code",
   "execution_count": 50,
   "id": "51bbd2ae",
   "metadata": {},
   "outputs": [
    {
     "data": {
      "text/plain": [
       "(256, 1)"
      ]
     },
     "execution_count": 50,
     "metadata": {},
     "output_type": "execute_result"
    }
   ],
   "source": [
    "hist.shape"
   ]
  },
  {
   "cell_type": "code",
   "execution_count": 51,
   "id": "dad4242e",
   "metadata": {},
   "outputs": [
    {
     "ename": "SyntaxError",
     "evalue": "invalid syntax (3792562934.py, line 6)",
     "output_type": "error",
     "traceback": [
      "\u001b[1;36m  Input \u001b[1;32mIn [51]\u001b[1;36m\u001b[0m\n\u001b[1;33m    for i, color in enumerate(color)\u001b[0m\n\u001b[1;37m                                    ^\u001b[0m\n\u001b[1;31mSyntaxError\u001b[0m\u001b[1;31m:\u001b[0m invalid syntax\n"
     ]
    }
   ],
   "source": [
    "#multiple color\n",
    "color = ('b', 'g', 'r')\n",
    "\n",
    "img_color = cv.imread('butterfly.jfif', 0)\n",
    "\n",
    "for i, color in enumerate(color)\n",
    "\n",
    "    hist = cv.calcHist([img_color], [i], None, [256], [0, 256])\n",
    "    plt.plot(hist, color = color)\n",
    "    plt.xlim([0, 256])\n",
    "    plt.ylim([0, 1500])\n",
    "\n",
    "plt.show()"
   ]
  },
  {
   "cell_type": "code",
   "execution_count": 52,
   "id": "6ad07c7d",
   "metadata": {},
   "outputs": [
    {
     "data": {
      "image/png": "[encoded data removed]",
      "text/plain": [
       "<Figure size 432x288 with 1 Axes>"
      ]
     },
     "metadata": {
      "needs_background": "light"
     },
     "output_type": "display_data"
    }
   ],
   "source": [
    "# eercise \n",
    "\n",
    "img = cv.imread('wood_planck.jfif')\n",
    "gray = cv.cvtColor(img, cv.COLOR_BGR2GRAY)\n",
    "\n",
    "#while perfomring thresholding, ensure image is grayscale\n",
    "hist = cv.calcHist([gray], [0], None, [256], [0, 256])\n",
    "\n",
    "plt.plot(hist)\n",
    "plt.title(\"Grayscale Histogram Image\")\n",
    "plt.xlabel(\"pixel intensity\")\n",
    "plt.ylabel(\"Number of pxiels\")\n",
    "plt.show()"
   ]
  },
  {
   "cell_type": "code",
   "execution_count": null,
   "id": "e2de980d",
   "metadata": {},
   "outputs": [],
   "source": [
    "ret, th = cv.threshold(gray, 255, cv.THRESH_BINARY_INV)\n",
    "\n",
    "cv.imshow('grayscale', gray)\n",
    "cv.imshow('threshold', th)\n",
    "cv.waitKey(0)\n",
    "cv.destroyAllWindows"
   ]
  }
 ],
 "metadata": {
  "kernelspec": {
   "display_name": "Python 3 (ipykernel)",
   "language": "python",
   "name": "python3"
  },
  "language_info": {
   "codemirror_mode": {
    "name": "ipython",
    "version": 3
   },
   "file_extension": ".py",
   "mimetype": "text/x-python",
   "name": "python",
   "nbconvert_exporter": "python",
   "pygments_lexer": "ipython3",
   "version": "3.9.12"
  }
 },
 "nbformat": 4,
 "nbformat_minor": 5
}

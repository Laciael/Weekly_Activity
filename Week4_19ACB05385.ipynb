{
 "cells": [
  {
   "cell_type": "code",
   "execution_count": 3,
   "id": "cdf1e3b7",
   "metadata": {},
   "outputs": [
    {
     "name": "stdout",
     "output_type": "stream",
     "text": [
      "(720, 1280, 3)\n",
      "(720, 1280)\n"
     ]
    }
   ],
   "source": [
    "#Week 4 Activity 1(a)-Display photo using opencv on windows bar\n",
    "\n",
    "import cv2 as cv\n",
    "import numpy as np\n",
    "\n",
    "img1 = cv.imread('Coffin_Dance.jpg') #default photo\n",
    "img2 = cv.imread('Coffin_Dance.jpg', 0)    # synchronize dimension\n",
    "\n",
    "#show photo dimension size\n",
    "print(img1.shape)\n",
    "print(img2.shape)\n",
    "\n",
    "#resize photo\n",
    "img1 = cv.resize(img1, (0,0), None, 0.5, 0.5)\n",
    "img2 = cv.resize(img2, (0,0), None, 0.5, 0.5)\n",
    "\n",
    "#convert to grayscale\n",
    "img2 = cv.cvtColor(img2, cv.COLOR_GRAY2BGR)\n",
    "\n",
    "#vertical stack img1 & img2\n",
    "ver = np.vstack((img1, img2))\n",
    "\n",
    "#output\n",
    "cv.imshow('Coffin_Dance', ver)\n",
    "cv.waitKey(0)\n",
    "cv.destroyAllWindows()"
   ]
  },
  {
   "cell_type": "code",
   "execution_count": 2,
   "id": "f6a0b393",
   "metadata": {},
   "outputs": [
    {
     "name": "stdout",
     "output_type": "stream",
     "text": [
      "(988, 1023)\n",
      "(988, 1023)\n"
     ]
    },
    {
     "data": {
      "image/png": "[encoded data removed]",
      "text/plain": [
       "<Figure size 432x288 with 2 Axes>"
      ]
     },
     "metadata": {},
     "output_type": "display_data"
    }
   ],
   "source": [
    "#Week 4 Activity 1(b)-Display photo using opencv on matplotlib graph\n",
    "\n",
    "import cv2 as cv\n",
    "import numpy as np\n",
    "from matplotlib import pyplot as plt\n",
    "\n",
    "#read from 'Surprised_Pikachu.jpg' and convert to grayscale\n",
    "img1 = cv.imread('Surprised_Pikachu.jpg', cv.IMREAD_GRAYSCALE)\n",
    "img2 = cv.Laplacian(img1, cv.CV_64F)\n",
    "img2 = np.uint8(np.absolute(img2))\n",
    "\n",
    "#show photo dimension\n",
    "print(img1.shape)\n",
    "print(img2.shape)\n",
    "\n",
    "#resize photo dimesnion\n",
    "img1 = cv.resize(img1, (0,0), None, 0.5, 0.5)\n",
    "img2 = cv.resize(img2, (0,0), None, 0.5, 0.5)\n",
    "\n",
    "#display title on graph in correespondance to the images\n",
    "title = ['Surprised_Pikachu', 'Black_Surprised_Pikachu']\n",
    "imgs = [img1, img2]\n",
    "\n",
    "#output\n",
    "for i in range(2):\n",
    "    plt.subplot(1, 2, i+1), plt.imshow(imgs[i], 'gray')\n",
    "    plt.title(title[i])\n",
    "    plt.xticks([]), plt.yticks([])"
   ]
  },
  {
   "cell_type": "code",
   "execution_count": 24,
   "id": "288f8900",
   "metadata": {
    "scrolled": true
   },
   "outputs": [
    {
     "ename": "AttributeError",
     "evalue": "'NoneType' object has no attribute 'shape'",
     "output_type": "error",
     "traceback": [
      "\u001b[1;31m---------------------------------------------------------------------------\u001b[0m",
      "\u001b[1;31mAttributeError\u001b[0m                            Traceback (most recent call last)",
      "Input \u001b[1;32mIn [24]\u001b[0m, in \u001b[0;36m<cell line: 22>\u001b[1;34m()\u001b[0m\n\u001b[0;32m     19\u001b[0m \u001b[38;5;28;01mwhile\u001b[39;00m(\u001b[38;5;28;01mTrue\u001b[39;00m):\n\u001b[0;32m     20\u001b[0m     \n\u001b[0;32m     21\u001b[0m     \u001b[38;5;66;03m#capture framerate\u001b[39;00m\n\u001b[0;32m     22\u001b[0m     ret, frame \u001b[38;5;241m=\u001b[39m cap\u001b[38;5;241m.\u001b[39mread()\n\u001b[1;32m---> 23\u001b[0m     frame \u001b[38;5;241m=\u001b[39m \u001b[43mrescale_frame\u001b[49m\u001b[43m(\u001b[49m\u001b[43mframe\u001b[49m\u001b[43m,\u001b[49m\u001b[43m \u001b[49m\u001b[43mpercent\u001b[49m\u001b[38;5;241;43m=\u001b[39;49m\u001b[38;5;241;43m30\u001b[39;49m\u001b[43m)\u001b[49m\n\u001b[0;32m     24\u001b[0m     cv\u001b[38;5;241m.\u001b[39mimshow(\u001b[38;5;124m'\u001b[39m\u001b[38;5;124mframe\u001b[39m\u001b[38;5;124m'\u001b[39m, frame)\n\u001b[0;32m     25\u001b[0m     \u001b[38;5;28;01mif\u001b[39;00m cv\u001b[38;5;241m.\u001b[39mwaitKey(\u001b[38;5;241m1\u001b[39m) \u001b[38;5;241m&\u001b[39m \u001b[38;5;241m0xFF\u001b[39m \u001b[38;5;241m==\u001b[39m \u001b[38;5;241m27\u001b[39m:\n",
      "Input \u001b[1;32mIn [24]\u001b[0m, in \u001b[0;36mrescale_frame\u001b[1;34m(frame, percent)\u001b[0m\n\u001b[0;32m      5\u001b[0m \u001b[38;5;28;01mdef\u001b[39;00m \u001b[38;5;21mrescale_frame\u001b[39m(frame, percent\u001b[38;5;241m=\u001b[39m\u001b[38;5;241m75\u001b[39m):\n\u001b[1;32m----> 6\u001b[0m     width \u001b[38;5;241m=\u001b[39m \u001b[38;5;28mint\u001b[39m(\u001b[43mframe\u001b[49m\u001b[38;5;241;43m.\u001b[39;49m\u001b[43mshape\u001b[49m[\u001b[38;5;241m1\u001b[39m] \u001b[38;5;241m*\u001b[39m percent\u001b[38;5;241m/\u001b[39m\u001b[38;5;241m100\u001b[39m)\n\u001b[0;32m      7\u001b[0m     height \u001b[38;5;241m=\u001b[39m \u001b[38;5;28mint\u001b[39m(frame\u001b[38;5;241m.\u001b[39mshape[\u001b[38;5;241m0\u001b[39m] \u001b[38;5;241m*\u001b[39m percent\u001b[38;5;241m/\u001b[39m\u001b[38;5;241m100\u001b[39m)\n\u001b[0;32m      8\u001b[0m     dim \u001b[38;5;241m=\u001b[39m (width, height)\n",
      "\u001b[1;31mAttributeError\u001b[0m: 'NoneType' object has no attribute 'shape'"
     ]
    }
   ],
   "source": [
    "import numpy as np\n",
    "import cv2 as cv\n",
    "\n",
    "\n",
    "def rescale_frame(frame, percent=75):\n",
    "    width = int(frame.shape[1] * percent/100)\n",
    "    height = int(frame.shape[0] * percent/100)\n",
    "    dim = (width, height)\n",
    "    return cv.resize(frame, dim, interpolation =cv.INTER_AREA)\n",
    "\n",
    "# Create a VideoCapture object\n",
    "cap = cv.VideoCapture('img_pexels.mp4')\n",
    "fourcc = cv.VideoWriter_fourcc(*'XVID')\n",
    "out = cv.VideoWriter('smaller_img_pexels.mp4', fourcc, 20.0, (640,480))\n",
    "\n",
    "\n",
    "\n",
    "\n",
    "while(True):\n",
    "    \n",
    "    #capture framerate\n",
    "    ret, frame = cap.read()\n",
    "    frame = rescale_frame(frame, percent=30)\n",
    "    cv.imshow('frame', frame)\n",
    "    if cv.waitKey(1) & 0xFF == 27:\n",
    "    \n",
    "        break\n",
    "\n",
    "cap.release()\n",
    "cv.destroyAllWindows()"
   ]
  },
  {
   "cell_type": "code",
   "execution_count": 22,
   "id": "06fc131b",
   "metadata": {},
   "outputs": [],
   "source": [
    "# Create a VideoCapture object\n",
    "cap = cv.VideoCapture('img_pexels.mp4')\n",
    "\n",
    "# Check if the object has been created successfully\n",
    "if not cap.isOpened():\n",
    "    print(\"Unable to create video\")\n",
    "\n",
    "# Read until the video is completed.\n",
    "while cap.isOpened():\n",
    "    ret, frame = cap.read()\n",
    "    \n",
    "    # if frame is read then ret is True\n",
    "    if not ret:\n",
    "        print(\"Can't receive frame.\")\n",
    "        break\n",
    "    \n",
    "    cv.imshow('frame', frame)\n",
    "    # Press Esc key to exit (27 is ASCII code for Esc). cv.waitKey() returns 32 bit integer values. You can find the ASCII table\n",
    "    # on this URL: https://theasciicode.com.ar/\n",
    "    if cv.waitKey(1) & 0xFF == 27:\n",
    "        break\n",
    "\n",
    "# destroy the constructor\n",
    "cap.release()\n",
    "cv.destroyAllWindows()"
   ]
  },
  {
   "cell_type": "code",
   "execution_count": 1,
   "id": "88163be4",
   "metadata": {},
   "outputs": [],
   "source": [
    "#Week 4 Activity 3-Gnenerate random noise colour and grayscale\n",
    "\n",
    "import cv2 as cv\n",
    "import random\n",
    "import numpy as np\n",
    "\n",
    "def add_noise(img1):\n",
    "    \n",
    "    #This function defines the add salt feature.\n",
    "    #It removes a random amount of pixel from the original photo file.\n",
    "    rw, cl = img1.shape\n",
    "    pixel = random.randint(500, 2000)\n",
    "    \n",
    "    #salted pixel random range\n",
    "    for i in range(pixel):\n",
    "        y = random.randint(0, rw-1)\n",
    "        x = random.randint(0, cl-1)\n",
    "        img1[y][x] = 255\n",
    "    for i in range(pixel):\n",
    "        y = random.randint(0, rw-1)\n",
    "        x = random.randint(0, cl-1)\n",
    "        img1[y][x] = 0\n",
    "        \n",
    "    return img1\n",
    "    \n",
    "img1 = cv.imread(\"Surprised_Pikachu.jpg\", cv.IMREAD_GRAYSCALE) #read as grayscale\n",
    "img1 = cv.resize(img1, (0,0), None, 0.5, 0.5)#resize\n",
    "\n",
    "cv.imwrite('Surprised_Pikachu2.jpg', add_noise(img1))#read 'add_noise' function and saves in a new jpj file.\n",
    "img2 = cv.imread('Surprised_Pikachu2.jpg', 0)#read the new jpj file\n",
    "\n",
    "#resize photo dimesnion\n",
    "img1 = cv.resize(img1, (0,0), None, 0.5, 0.5)\n",
    "img2 = cv.resize(img2, (0,0), None, 0.5, 0.5)\n",
    "\n",
    "#horizontal stacking img1 & img2\n",
    "hor = np.hstack((img1, img2))\n",
    "\n",
    "#output\n",
    "cv.imshow('Surprised_Noisy_Pikachu', img2)#show img2('Surprised_Noisy_Pikachu.jpg') as a standalone\n",
    "cv.imshow('Surprised_Combined_Pikachu', hor)#show combine grayscale and salted graycale image\n",
    "cv.waitKey(0)\n",
    "cv.destroyAllWindows()"
   ]
  }
 ],
 "metadata": {
  "kernelspec": {
   "display_name": "Python 3 (ipykernel)",
   "language": "python",
   "name": "python3"
  },
  "language_info": {
   "codemirror_mode": {
    "name": "ipython",
    "version": 3
   },
   "file_extension": ".py",
   "mimetype": "text/x-python",
   "name": "python",
   "nbconvert_exporter": "python",
   "pygments_lexer": "ipython3",
   "version": "3.9.12"
  }
 },
 "nbformat": 4,
 "nbformat_minor": 5
}
